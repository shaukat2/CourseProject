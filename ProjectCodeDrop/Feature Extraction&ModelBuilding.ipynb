{
 "cells": [
  {
   "cell_type": "code",
   "execution_count": 1,
   "id": "00b90828",
   "metadata": {},
   "outputs": [
    {
     "name": "stderr",
     "output_type": "stream",
     "text": [
      "[nltk_data] Downloading package wordnet to /Users/sameen/nltk_data...\n",
      "[nltk_data]   Package wordnet is already up-to-date!\n"
     ]
    }
   ],
   "source": [
    "import pandas as pd\n",
    "import numpy as np\n",
    "from numpy import random\n",
    "import nltk\n",
    "nltk.download('wordnet')\n",
    "import urllib\n",
    "import requests\n",
    "import time\n",
    "from sklearn.model_selection import train_test_split\n",
    "from sklearn.feature_extraction.text import CountVectorizer, TfidfVectorizer\n",
    "from sklearn.metrics import accuracy_score, confusion_matrix\n",
    "import matplotlib.pyplot as plt\n",
    "from nltk.corpus import stopwords\n",
    "import re\n",
    "from bs4 import BeautifulSoup\n",
    "from sklearn.linear_model import SGDClassifier\n",
    "from sklearn.pipeline import Pipeline\n",
    "from sklearn.feature_extraction.text import TfidfTransformer\n",
    "from sklearn.metrics import classification_report"
   ]
  },
  {
   "cell_type": "code",
   "execution_count": 2,
   "id": "d5f17387",
   "metadata": {},
   "outputs": [],
   "source": [
    "#Helper functions\n",
    "user_agent = 'Mozilla/5.0 (Windows; U; Windows NT 5.1; en-US; rv:1.9.0.7) Gecko/2009021910 Firefox/3.0.7'\n",
    "headers={'User-Agent':user_agent,} \n",
    "\n",
    "STOPWORDS = set(stopwords.words('english'))\n",
    "ProcessedText = None\n",
    "\n",
    "def GetDataFromURL(url_link):\n",
    "    time.sleep(0.01)\n",
    "    response = requests.get(url_link)\n",
    "    soup = BeautifulSoup(response.text, \"html.parser\")\n",
    "    remove_script(soup)\n",
    "    text = soup.get_text()\n",
    "    preprocessed_text = text\n",
    "    #preprocessed_text = preprocess_text(text)\n",
    "    return preprocessed_text\n",
    "\n",
    "#Checks if bio_url is a valid faculty homepage\n",
    "def is_valid_url(url_check):\n",
    "    ret_url = 'NA'\n",
    "    if url_check == 'NA':\n",
    "        return ret_url\n",
    "    if url_check.endswith('.pdf'): #we're not parsing pdfs\n",
    "        return ret_url\n",
    "    try:\n",
    "        #sometimes the homepage url points to the same page as the faculty profile page\n",
    "        #which should be treated differently from an actual homepage\n",
    "        request=urllib.request.Request(url_check,None,headers)\n",
    "        ret_url = urllib.request.urlopen(request).geturl() \n",
    "    except:\n",
    "        return ret_url      #unable to access bio_url\n",
    "    return ret_url\n",
    "\n",
    "\n",
    "def remove_script(soup):\n",
    "    for script in soup([\"script\", \"style\"]):\n",
    "        script.decompose()\n",
    "    return soup\n",
    "\n",
    "def scrapeURL(url_in):\n",
    "    url_check = is_valid_url(url_in)\n",
    "    if url_check != 'NA':\n",
    "        ProcessedText = GetDataFromURL(url_check)\n",
    "    else:\n",
    "        ProcessedText = \"NA\"\n",
    "    return ProcessedText\n",
    "\n",
    "\n",
    "\n",
    "def preprocess_text(ExtractedText):\n",
    "    ExtractedText = \" \".join((re.sub(r'[a-z0-9\\.\\-+_]+@[a-z0-9\\.\\-+_]+\\.[a-z]+', \"EmailAddress\", ExtractedText)).split())\n",
    "    ExtractedText = \" \".join((re.sub(r'^https?:\\/\\/.*[\\r\\n]*',\"WebAddress\", ExtractedText)).split())\n",
    "    ExtractedText = ExtractedText.encode('ascii',errors='ignore').decode('utf-8')       #removes non-ascii characters\n",
    "    ExtractedText = re.sub('\\s+',' ',ExtractedText)       #repalces repeated whitespace characters with single space\n",
    "    ExtractedText = re.sub(r'\\W',' ',ExtractedText) \n",
    "    ExtractedText = ExtractedText.replace(\"\\n\",\" \")\n",
    "    ExtractedText = ExtractedText.lower()\n",
    "    ExtractedText = ' '.join(word for word in ExtractedText.split() if word not in STOPWORDS) # delete stopwors from text\n",
    "    return ExtractedText"
   ]
  },
  {
   "cell_type": "code",
   "execution_count": 3,
   "id": "c1c8e40a",
   "metadata": {},
   "outputs": [],
   "source": [
    "# faculty bios data provided in MP2.3\n",
    "f = open(\"bios.txt\", \"r\")\n",
    "content = f.read()\n",
    "extractedText = content.splitlines()\n",
    "f.close()\n"
   ]
  },
  {
   "cell_type": "code",
   "execution_count": 4,
   "id": "3b06511a",
   "metadata": {},
   "outputs": [],
   "source": [
    "for i in range(len(extractedText)):\n",
    "    extractedText[i] = preprocess_text(extractedText[i])"
   ]
  },
  {
   "cell_type": "code",
   "execution_count": 5,
   "id": "0cc15255",
   "metadata": {},
   "outputs": [],
   "source": [
    "Label = np.full(len(extractedText), \"FacultyPage\")"
   ]
  },
  {
   "cell_type": "code",
   "execution_count": 6,
   "id": "4940d445",
   "metadata": {},
   "outputs": [],
   "source": [
    "# test inputs\n",
    "url = \"https://docs.python.org/3/library/multiprocessing.html\"\n",
    "url1 = \"https://cs.illinois.edu/about/people/department-faculty\"\n",
    "url2 = \"https://cs.illinois.edu/about/people/department-faculty/sadve\"\n",
    "\n",
    "ProcessedText = scrapeURL(url)\n",
    "ProcessedText1 = scrapeURL(url1)\n",
    "ProcessedText2 = scrapeURL(url2)\n",
    "\n",
    "ProcessedText = preprocess_text(ProcessedText)\n",
    "ProcessedText1 = preprocess_text(ProcessedText1)\n",
    "ProcessedText2 = preprocess_text(ProcessedText2)\n",
    "\n",
    "ProcessedText = [ProcessedText]\n",
    "ProcessedText1 = [ProcessedText1]\n",
    "ProcessedText2 = [ProcessedText2]"
   ]
  },
  {
   "cell_type": "code",
   "execution_count": 7,
   "id": "1f10ea51",
   "metadata": {},
   "outputs": [
    {
     "data": {
      "text/html": [
       "<div>\n",
       "<style scoped>\n",
       "    .dataframe tbody tr th:only-of-type {\n",
       "        vertical-align: middle;\n",
       "    }\n",
       "\n",
       "    .dataframe tbody tr th {\n",
       "        vertical-align: top;\n",
       "    }\n",
       "\n",
       "    .dataframe thead th {\n",
       "        text-align: right;\n",
       "    }\n",
       "</style>\n",
       "<table border=\"1\" class=\"dataframe\">\n",
       "  <thead>\n",
       "    <tr style=\"text-align: right;\">\n",
       "      <th></th>\n",
       "      <th>Label</th>\n",
       "      <th>extractedText</th>\n",
       "    </tr>\n",
       "  </thead>\n",
       "  <tbody>\n",
       "    <tr>\n",
       "      <th>0</th>\n",
       "      <td>FacultyPage</td>\n",
       "      <td>govind p agrawal james c wyant professor optic...</td>\n",
       "    </tr>\n",
       "    <tr>\n",
       "      <th>1</th>\n",
       "      <td>FacultyPage</td>\n",
       "      <td>segev benzvi associate professor physics phd 4...</td>\n",
       "    </tr>\n",
       "    <tr>\n",
       "      <th>2</th>\n",
       "      <td>FacultyPage</td>\n",
       "      <td>dan bergstralh assistant professor biology phy...</td>\n",
       "    </tr>\n",
       "    <tr>\n",
       "      <th>3</th>\n",
       "      <td>FacultyPage</td>\n",
       "      <td>riccardo betti robert l mccrory professor mech...</td>\n",
       "    </tr>\n",
       "    <tr>\n",
       "      <th>4</th>\n",
       "      <td>FacultyPage</td>\n",
       "      <td>nicholas p bigelow lee dubridge professor phys...</td>\n",
       "    </tr>\n",
       "  </tbody>\n",
       "</table>\n",
       "</div>"
      ],
      "text/plain": [
       "         Label                                      extractedText\n",
       "0  FacultyPage  govind p agrawal james c wyant professor optic...\n",
       "1  FacultyPage  segev benzvi associate professor physics phd 4...\n",
       "2  FacultyPage  dan bergstralh assistant professor biology phy...\n",
       "3  FacultyPage  riccardo betti robert l mccrory professor mech...\n",
       "4  FacultyPage  nicholas p bigelow lee dubridge professor phys..."
      ]
     },
     "execution_count": 7,
     "metadata": {},
     "output_type": "execute_result"
    }
   ],
   "source": [
    "df = pd.DataFrame(dict(Label=Label,extractedText=extractedText))\n",
    "df.head()"
   ]
  },
  {
   "cell_type": "code",
   "execution_count": 8,
   "id": "6b69c307",
   "metadata": {},
   "outputs": [
    {
     "data": {
      "text/plain": [
       "index                         0\n",
       "Faculty Directory Homepage    0\n",
       "FacultyPage                   0\n",
       "Label                         0\n",
       "extractedText                 3\n",
       "dtype: int64"
      ]
     },
     "execution_count": 8,
     "metadata": {},
     "output_type": "execute_result"
    }
   ],
   "source": [
    "# load scraped data\n",
    "data = pd.read_csv(\"extracted_data_processed.csv\",index_col=[0])\n",
    "data.isna().sum()"
   ]
  },
  {
   "cell_type": "code",
   "execution_count": 9,
   "id": "48200c0d",
   "metadata": {},
   "outputs": [
    {
     "name": "stderr",
     "output_type": "stream",
     "text": [
      "/Users/sameen/opt/anaconda3/envs/Python37/lib/python3.7/site-packages/ipykernel_launcher.py:2: FutureWarning: In a future version of pandas all arguments of DataFrame.drop except for the argument 'labels' will be keyword-only\n",
      "  \n",
      "/Users/sameen/opt/anaconda3/envs/Python37/lib/python3.7/site-packages/ipykernel_launcher.py:3: FutureWarning: In a future version of pandas all arguments of DataFrame.drop except for the argument 'labels' will be keyword-only\n",
      "  This is separate from the ipykernel package so we can avoid doing imports until\n"
     ]
    }
   ],
   "source": [
    "# Drop clutter\n",
    "data = data.dropna()\n",
    "data = data.drop('Faculty Directory Homepage', 1)\n",
    "data = data.drop('FacultyPage', 1)"
   ]
  },
  {
   "cell_type": "code",
   "execution_count": 10,
   "id": "5fe15860",
   "metadata": {},
   "outputs": [],
   "source": [
    "data = data[data['Label'] != \"FacultyPage\"]"
   ]
  },
  {
   "cell_type": "code",
   "execution_count": 11,
   "id": "e42dd471",
   "metadata": {},
   "outputs": [],
   "source": [
    "df1 = df[1:1000]"
   ]
  },
  {
   "cell_type": "code",
   "execution_count": 12,
   "id": "8101bdaa",
   "metadata": {},
   "outputs": [],
   "source": [
    "data = data.append(df1)"
   ]
  },
  {
   "cell_type": "code",
   "execution_count": 13,
   "id": "4196ceec",
   "metadata": {},
   "outputs": [],
   "source": [
    "dataFacDir = data[data['Label'] != \"FacultyPage\"]\n",
    "dataFac = data[data['Label'] != \"FacultyDirectoryPage\"]"
   ]
  },
  {
   "cell_type": "code",
   "execution_count": 14,
   "id": "0985abda",
   "metadata": {},
   "outputs": [
    {
     "name": "stderr",
     "output_type": "stream",
     "text": [
      "/Users/sameen/opt/anaconda3/envs/Python37/lib/python3.7/site-packages/ipykernel_launcher.py:2: FutureWarning: In a future version of pandas all arguments of DataFrame.drop except for the argument 'labels' will be keyword-only\n",
      "  \n",
      "/Users/sameen/opt/anaconda3/envs/Python37/lib/python3.7/site-packages/ipykernel_launcher.py:4: FutureWarning: In a future version of pandas all arguments of DataFrame.drop except for the argument 'labels' will be keyword-only\n",
      "  after removing the cwd from sys.path.\n"
     ]
    }
   ],
   "source": [
    "#dataFacDir = dataFacDir.drop('level_0', 1)\n",
    "dataFacDir = dataFacDir.drop('index', 1)\n",
    "#dataFac = dataFac.drop('level_0', 1)\n",
    "dataFac = dataFac.drop('index', 1)"
   ]
  },
  {
   "cell_type": "code",
   "execution_count": 15,
   "id": "429d5691",
   "metadata": {},
   "outputs": [
    {
     "data": {
      "text/html": [
       "<div>\n",
       "<style scoped>\n",
       "    .dataframe tbody tr th:only-of-type {\n",
       "        vertical-align: middle;\n",
       "    }\n",
       "\n",
       "    .dataframe tbody tr th {\n",
       "        vertical-align: top;\n",
       "    }\n",
       "\n",
       "    .dataframe thead th {\n",
       "        text-align: right;\n",
       "    }\n",
       "</style>\n",
       "<table border=\"1\" class=\"dataframe\">\n",
       "  <thead>\n",
       "    <tr style=\"text-align: right;\">\n",
       "      <th></th>\n",
       "      <th>Label</th>\n",
       "      <th>extractedText</th>\n",
       "    </tr>\n",
       "  </thead>\n",
       "  <tbody>\n",
       "    <tr>\n",
       "      <th>0</th>\n",
       "      <td>FacultyDirectoryPage</td>\n",
       "      <td>csd faculty carnegie mellon university compute...</td>\n",
       "    </tr>\n",
       "    <tr>\n",
       "      <th>1</th>\n",
       "      <td>FacultyDirectoryPage</td>\n",
       "      <td>faculty stanford computer science skip skip co...</td>\n",
       "    </tr>\n",
       "    <tr>\n",
       "      <th>2</th>\n",
       "      <td>FacultyDirectoryPage</td>\n",
       "      <td>faculty computer science university illinois c...</td>\n",
       "    </tr>\n",
       "    <tr>\n",
       "      <th>3</th>\n",
       "      <td>FacultyDirectoryPage</td>\n",
       "      <td>computer science university chicago department...</td>\n",
       "    </tr>\n",
       "    <tr>\n",
       "      <th>4</th>\n",
       "      <td>FacultyDirectoryPage</td>\n",
       "      <td>purdue university department computer science ...</td>\n",
       "    </tr>\n",
       "    <tr>\n",
       "      <th>...</th>\n",
       "      <td>...</td>\n",
       "      <td>...</td>\n",
       "    </tr>\n",
       "    <tr>\n",
       "      <th>2627</th>\n",
       "      <td>NonFacultyPage</td>\n",
       "      <td>dominion news grassroots jump content network ...</td>\n",
       "    </tr>\n",
       "    <tr>\n",
       "      <th>2628</th>\n",
       "      <td>NonFacultyPage</td>\n",
       "      <td>altweeklies com aan association alternative ne...</td>\n",
       "    </tr>\n",
       "    <tr>\n",
       "      <th>2629</th>\n",
       "      <td>NonFacultyPage</td>\n",
       "      <td>dominion stories http www dominionpaper ca all...</td>\n",
       "    </tr>\n",
       "    <tr>\n",
       "      <th>2630</th>\n",
       "      <td>NonFacultyPage</td>\n",
       "      <td>acceptable acceptable appropriate representati...</td>\n",
       "    </tr>\n",
       "    <tr>\n",
       "      <th>2631</th>\n",
       "      <td>NonFacultyPage</td>\n",
       "      <td>weekly world news worlds reliable news skip co...</td>\n",
       "    </tr>\n",
       "  </tbody>\n",
       "</table>\n",
       "<p>2044 rows × 2 columns</p>\n",
       "</div>"
      ],
      "text/plain": [
       "                     Label                                      extractedText\n",
       "0     FacultyDirectoryPage  csd faculty carnegie mellon university compute...\n",
       "1     FacultyDirectoryPage  faculty stanford computer science skip skip co...\n",
       "2     FacultyDirectoryPage  faculty computer science university illinois c...\n",
       "3     FacultyDirectoryPage  computer science university chicago department...\n",
       "4     FacultyDirectoryPage  purdue university department computer science ...\n",
       "...                    ...                                                ...\n",
       "2627        NonFacultyPage  dominion news grassroots jump content network ...\n",
       "2628        NonFacultyPage  altweeklies com aan association alternative ne...\n",
       "2629        NonFacultyPage  dominion stories http www dominionpaper ca all...\n",
       "2630        NonFacultyPage  acceptable acceptable appropriate representati...\n",
       "2631        NonFacultyPage  weekly world news worlds reliable news skip co...\n",
       "\n",
       "[2044 rows x 2 columns]"
      ]
     },
     "execution_count": 15,
     "metadata": {},
     "output_type": "execute_result"
    }
   ],
   "source": [
    "dataFacDir"
   ]
  },
  {
   "cell_type": "code",
   "execution_count": 16,
   "id": "296d16da",
   "metadata": {},
   "outputs": [],
   "source": [
    "dataFac.reset_index(inplace=True)\n",
    "dataFacDir.reset_index(inplace=True)"
   ]
  },
  {
   "cell_type": "code",
   "execution_count": 17,
   "id": "001c8c7e",
   "metadata": {},
   "outputs": [
    {
     "data": {
      "text/html": [
       "<div>\n",
       "<style scoped>\n",
       "    .dataframe tbody tr th:only-of-type {\n",
       "        vertical-align: middle;\n",
       "    }\n",
       "\n",
       "    .dataframe tbody tr th {\n",
       "        vertical-align: top;\n",
       "    }\n",
       "\n",
       "    .dataframe thead th {\n",
       "        text-align: right;\n",
       "    }\n",
       "</style>\n",
       "<table border=\"1\" class=\"dataframe\">\n",
       "  <thead>\n",
       "    <tr style=\"text-align: right;\">\n",
       "      <th></th>\n",
       "      <th>index</th>\n",
       "      <th>Label</th>\n",
       "      <th>extractedText</th>\n",
       "    </tr>\n",
       "  </thead>\n",
       "  <tbody>\n",
       "    <tr>\n",
       "      <th>0</th>\n",
       "      <td>1756</td>\n",
       "      <td>NonFacultyPage</td>\n",
       "      <td>machine learning classify urls urls features s...</td>\n",
       "    </tr>\n",
       "    <tr>\n",
       "      <th>1</th>\n",
       "      <td>1757</td>\n",
       "      <td>NonFacultyPage</td>\n",
       "      <td>multi class text classification model comparis...</td>\n",
       "    </tr>\n",
       "    <tr>\n",
       "      <th>2</th>\n",
       "      <td>1758</td>\n",
       "      <td>NonFacultyPage</td>\n",
       "      <td>dallas news breaking news dfw texas world news...</td>\n",
       "    </tr>\n",
       "    <tr>\n",
       "      <th>3</th>\n",
       "      <td>1759</td>\n",
       "      <td>NonFacultyPage</td>\n",
       "      <td>creme 2 0 cis regulatory module explorer creme...</td>\n",
       "    </tr>\n",
       "    <tr>\n",
       "      <th>4</th>\n",
       "      <td>1760</td>\n",
       "      <td>NonFacultyPage</td>\n",
       "      <td>data software tools broad institute skip main ...</td>\n",
       "    </tr>\n",
       "    <tr>\n",
       "      <th>...</th>\n",
       "      <td>...</td>\n",
       "      <td>...</td>\n",
       "      <td>...</td>\n",
       "    </tr>\n",
       "    <tr>\n",
       "      <th>1867</th>\n",
       "      <td>995</td>\n",
       "      <td>FacultyPage</td>\n",
       "      <td>lawrence brown miers busch professor professor...</td>\n",
       "    </tr>\n",
       "    <tr>\n",
       "      <th>1868</th>\n",
       "      <td>996</td>\n",
       "      <td>FacultyPage</td>\n",
       "      <td>larry shepp professor statistics contact infor...</td>\n",
       "    </tr>\n",
       "    <tr>\n",
       "      <th>1869</th>\n",
       "      <td>997</td>\n",
       "      <td>FacultyPage</td>\n",
       "      <td>chemical biomolecular engineering assistant pr...</td>\n",
       "    </tr>\n",
       "    <tr>\n",
       "      <th>1870</th>\n",
       "      <td>998</td>\n",
       "      <td>FacultyPage</td>\n",
       "      <td>chemical biomolecular engineering associate pr...</td>\n",
       "    </tr>\n",
       "    <tr>\n",
       "      <th>1871</th>\n",
       "      <td>999</td>\n",
       "      <td>FacultyPage</td>\n",
       "      <td>chemical biomolecular engineering assistant pr...</td>\n",
       "    </tr>\n",
       "  </tbody>\n",
       "</table>\n",
       "<p>1872 rows × 3 columns</p>\n",
       "</div>"
      ],
      "text/plain": [
       "      index           Label                                      extractedText\n",
       "0      1756  NonFacultyPage  machine learning classify urls urls features s...\n",
       "1      1757  NonFacultyPage  multi class text classification model comparis...\n",
       "2      1758  NonFacultyPage  dallas news breaking news dfw texas world news...\n",
       "3      1759  NonFacultyPage  creme 2 0 cis regulatory module explorer creme...\n",
       "4      1760  NonFacultyPage  data software tools broad institute skip main ...\n",
       "...     ...             ...                                                ...\n",
       "1867    995     FacultyPage  lawrence brown miers busch professor professor...\n",
       "1868    996     FacultyPage  larry shepp professor statistics contact infor...\n",
       "1869    997     FacultyPage  chemical biomolecular engineering assistant pr...\n",
       "1870    998     FacultyPage  chemical biomolecular engineering associate pr...\n",
       "1871    999     FacultyPage  chemical biomolecular engineering assistant pr...\n",
       "\n",
       "[1872 rows x 3 columns]"
      ]
     },
     "execution_count": 17,
     "metadata": {},
     "output_type": "execute_result"
    }
   ],
   "source": [
    "dataFac"
   ]
  },
  {
   "cell_type": "code",
   "execution_count": 18,
   "id": "6e0b50bf",
   "metadata": {},
   "outputs": [
    {
     "name": "stderr",
     "output_type": "stream",
     "text": [
      "/Users/sameen/opt/anaconda3/envs/Python37/lib/python3.7/site-packages/ipykernel_launcher.py:1: FutureWarning: In a future version of pandas all arguments of DataFrame.drop except for the argument 'labels' will be keyword-only\n",
      "  \"\"\"Entry point for launching an IPython kernel.\n",
      "/Users/sameen/opt/anaconda3/envs/Python37/lib/python3.7/site-packages/ipykernel_launcher.py:2: FutureWarning: In a future version of pandas all arguments of DataFrame.drop except for the argument 'labels' will be keyword-only\n",
      "  \n"
     ]
    }
   ],
   "source": [
    "dataFac = dataFac.drop('index', 1)\n",
    "dataFacDir = dataFacDir.drop('index', 1)"
   ]
  },
  {
   "cell_type": "code",
   "execution_count": 19,
   "id": "4240f87f",
   "metadata": {},
   "outputs": [],
   "source": [
    "#Prepare for classification\n",
    "X = dataFac.extractedText\n",
    "y = dataFac.Label\n",
    "X_train, X_test, y_train, y_test = train_test_split(X, y, test_size=0.3, random_state = 42)\n",
    "my_tags = [\"NonFacultyPage\",\"FacultyPage\"]"
   ]
  },
  {
   "cell_type": "code",
   "execution_count": 20,
   "id": "0d3b190e",
   "metadata": {},
   "outputs": [
    {
     "name": "stdout",
     "output_type": "stream",
     "text": [
      "CPU times: user 3 µs, sys: 7 µs, total: 10 µs\n",
      "Wall time: 4.29 µs\n",
      "accuracy 0.9733096085409253\n",
      "                precision    recall  f1-score   support\n",
      "\n",
      "NonFacultyPage       0.98      0.97      0.97       300\n",
      "   FacultyPage       0.97      0.98      0.97       262\n",
      "\n",
      "      accuracy                           0.97       562\n",
      "     macro avg       0.97      0.97      0.97       562\n",
      "  weighted avg       0.97      0.97      0.97       562\n",
      "\n"
     ]
    }
   ],
   "source": [
    "# Prepare pipleine of variable for SGD Classifier to predit Faculty vs Non Faculty\n",
    "sgdFac = Pipeline([('vect', CountVectorizer()),\n",
    "                ('tfidf', TfidfTransformer()),\n",
    "                ('clf', SGDClassifier(loss='hinge', penalty='l1',alpha=1e-3, random_state=42, max_iter=10, tol=None)),\n",
    "               ])\n",
    "sgdFac.fit(X_train, y_train)\n",
    "\n",
    "%time\n",
    "\n",
    "y_pred = sgdFac.predict(X_test)\n",
    "\n",
    "# Classification Report\n",
    "print('accuracy %s' % accuracy_score(y_pred, y_test))\n",
    "print(classification_report(y_test, y_pred,target_names=my_tags))\n",
    "report = classification_report(y_test, y_pred ,target_names=my_tags, output_dict=True)\n",
    "clf_rpt = pd.DataFrame(report).transpose()\n",
    "clf_rpt.to_csv('clf_rptFac.csv')"
   ]
  },
  {
   "cell_type": "code",
   "execution_count": 21,
   "id": "703e4066",
   "metadata": {},
   "outputs": [],
   "source": [
    "#test predictions\n",
    "y_pred = sgdFac.predict(ProcessedText)\n",
    "y_pred1 = sgdFac.predict(ProcessedText1)\n"
   ]
  },
  {
   "cell_type": "code",
   "execution_count": 22,
   "id": "834921a7",
   "metadata": {},
   "outputs": [
    {
     "data": {
      "text/plain": [
       "(array(['NonFacultyPage'], dtype='<U14'), array(['FacultyPage'], dtype='<U14'))"
      ]
     },
     "execution_count": 22,
     "metadata": {},
     "output_type": "execute_result"
    }
   ],
   "source": [
    "y_pred, y_pred1"
   ]
  },
  {
   "cell_type": "code",
   "execution_count": 23,
   "id": "38c182d6",
   "metadata": {},
   "outputs": [],
   "source": [
    "X = dataFacDir.extractedText\n",
    "y = dataFacDir.Label\n",
    "X_train, X_test, y_train, y_test = train_test_split(X, y, test_size=0.3, random_state = 42)\n",
    "my_tags = [\"NonFacultyPage\",\"FacultyDirectoryPage\"]"
   ]
  },
  {
   "cell_type": "code",
   "execution_count": 24,
   "id": "29080bd3",
   "metadata": {},
   "outputs": [
    {
     "name": "stdout",
     "output_type": "stream",
     "text": [
      "CPU times: user 2 µs, sys: 7 µs, total: 9 µs\n",
      "Wall time: 4.05 µs\n",
      "accuracy 0.9592833876221498\n",
      "                      precision    recall  f1-score   support\n",
      "\n",
      "      NonFacultyPage       0.97      0.95      0.96       353\n",
      "FacultyDirectoryPage       0.94      0.97      0.95       261\n",
      "\n",
      "            accuracy                           0.96       614\n",
      "           macro avg       0.96      0.96      0.96       614\n",
      "        weighted avg       0.96      0.96      0.96       614\n",
      "\n"
     ]
    }
   ],
   "source": [
    "# Prepare pipleine of variable for SGD Classifier to predit Faculty directory vs Non Faculty\n",
    "sgdFacDir = Pipeline([('vect', CountVectorizer()),\n",
    "                ('tfidf', TfidfTransformer()),\n",
    "                ('clf', SGDClassifier(loss='hinge', penalty='l1',alpha=1e-3, random_state=42, max_iter=10, tol=None)),\n",
    "               ])\n",
    "sgdFacDir.fit(X_train, y_train)\n",
    "\n",
    "%time\n",
    "\n",
    "y_pred = sgdFacDir.predict(X_test)\n",
    "\n",
    "print('accuracy %s' % accuracy_score(y_pred, y_test))\n",
    "print(classification_report(y_test, y_pred,target_names=my_tags))\n",
    "report = classification_report(y_test, y_pred ,target_names=my_tags, output_dict=True)\n",
    "clf_rpt = pd.DataFrame(report).transpose()\n",
    "clf_rpt.to_csv('clf_rptFacDir.csv')"
   ]
  },
  {
   "cell_type": "code",
   "execution_count": 25,
   "id": "897c0768",
   "metadata": {},
   "outputs": [],
   "source": [
    "y_pred = sgdFac.predict(ProcessedText)\n",
    "y_pred1 = sgdFac.predict(ProcessedText2)\n"
   ]
  },
  {
   "cell_type": "code",
   "execution_count": 26,
   "id": "bff53e12",
   "metadata": {},
   "outputs": [
    {
     "data": {
      "text/plain": [
       "(array(['NonFacultyPage'], dtype='<U14'), array(['FacultyPage'], dtype='<U14'))"
      ]
     },
     "execution_count": 26,
     "metadata": {},
     "output_type": "execute_result"
    }
   ],
   "source": [
    "y_pred, y_pred1"
   ]
  },
  {
   "cell_type": "code",
   "execution_count": 63,
   "id": "28268482",
   "metadata": {},
   "outputs": [],
   "source": [
    "#Save models to harddisk\n",
    "import pickle\n",
    "with open('FacDir_classifier', 'wb') as picklefile:\n",
    "    pickle.dump(sgdFacDir,picklefile)\n",
    "with open('Fac_classifier', 'wb') as picklefile:\n",
    "    pickle.dump(sgdFac,picklefile)"
   ]
  },
  {
   "cell_type": "code",
   "execution_count": null,
   "id": "ce66c02d",
   "metadata": {},
   "outputs": [],
   "source": []
  }
 ],
 "metadata": {
  "kernelspec": {
   "display_name": "Python 3 (ipykernel)",
   "language": "python",
   "name": "python3"
  },
  "language_info": {
   "codemirror_mode": {
    "name": "ipython",
    "version": 3
   },
   "file_extension": ".py",
   "mimetype": "text/x-python",
   "name": "python",
   "nbconvert_exporter": "python",
   "pygments_lexer": "ipython3",
   "version": "3.7.11"
  }
 },
 "nbformat": 4,
 "nbformat_minor": 5
}
